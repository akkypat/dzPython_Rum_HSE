{
 "cells": [
  {
   "cell_type": "code",
   "execution_count": 22,
   "id": "d4a480f5",
   "metadata": {},
   "outputs": [],
   "source": [
    "from datetime import datetime\n",
    "class Account:\n",
    "    def __init__(self, name, balance_start):\n",
    "        self.name = name\n",
    "        self.balance_start  = balance_start\n",
    "        self.balance = self.balance_start\n",
    "        self.history_oper = dict()\n",
    "        self.oper = dict()\n",
    "    def deposit(self, total):\n",
    "        self.balance += total #пополнить баланс на total\n",
    "        self.oper[datetime.strftime(datetime.now(),\"%d.%m.%Y %H:%M:%S\")] = f\"+{total}$\" #регистрация операции\n",
    "        self.history_oper[self.name] = self.oper #привязка операции к self.name\n",
    "        print(f\"{self.name} has on the start balance {self.balance_start}$, now {self.balance}$ on the card\")\n",
    "    def get(self, total):\n",
    "        self.balance -= total #снять с баланса total\n",
    "        self.oper[datetime.strftime(datetime.now(),\"%d.%m.%Y %H:%M:%S\")] = f\"-{total}$\" #регистрация операции\n",
    "        self.history_oper[self.name] = self.oper #привязка операции к self.name\n",
    "        print(f\"{self.name} has on the start balance {self.balance_start}$, now {self.balance}$ on the card\")\n",
    "    def history_user(self):\n",
    "        print(f\"History user {self.name}:\")\n",
    "        for k, v in self.history_oper[self.name].items():\n",
    "            print(k + \": \" + str(v))"
   ]
  },
  {
   "cell_type": "code",
   "execution_count": 23,
   "id": "0c68551b",
   "metadata": {},
   "outputs": [],
   "source": [
    "Any = Account(\"Any\", 500)"
   ]
  },
  {
   "cell_type": "code",
   "execution_count": 25,
   "id": "d11f3d43",
   "metadata": {},
   "outputs": [
    {
     "name": "stdout",
     "output_type": "stream",
     "text": [
      "Any has on the start balance 500$, now 2500$ on the card\n"
     ]
    }
   ],
   "source": [
    "Any.deposit(1000)"
   ]
  },
  {
   "cell_type": "code",
   "execution_count": 26,
   "id": "42389c13",
   "metadata": {},
   "outputs": [
    {
     "name": "stdout",
     "output_type": "stream",
     "text": [
      "Any has on the start balance 500$, now 2400$ on the card\n"
     ]
    }
   ],
   "source": [
    "Any.get(100)"
   ]
  },
  {
   "cell_type": "code",
   "execution_count": 27,
   "id": "f0cd10a1",
   "metadata": {},
   "outputs": [
    {
     "name": "stdout",
     "output_type": "stream",
     "text": [
      "History user Any:\n",
      "04.10.2024 17:22:00: +1000$\n",
      "04.10.2024 17:22:06: +1000$\n",
      "04.10.2024 17:22:08: -100$\n"
     ]
    }
   ],
   "source": [
    "Any.history_user()"
   ]
  }
 ],
 "metadata": {
  "kernelspec": {
   "display_name": "Python 3 (ipykernel)",
   "language": "python",
   "name": "python3"
  },
  "language_info": {
   "codemirror_mode": {
    "name": "ipython",
    "version": 3
   },
   "file_extension": ".py",
   "mimetype": "text/x-python",
   "name": "python",
   "nbconvert_exporter": "python",
   "pygments_lexer": "ipython3",
   "version": "3.11.4"
  }
 },
 "nbformat": 4,
 "nbformat_minor": 5
}
