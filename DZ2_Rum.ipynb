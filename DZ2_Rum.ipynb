{
 "cells": [
  {
   "cell_type": "code",
   "execution_count": 38,
   "id": "999c7c43",
   "metadata": {},
   "outputs": [
    {
     "name": "stdout",
     "output_type": "stream",
     "text": [
      "2002-10-02 00:00:00\n",
      "2013-11-10 00:00:00\n",
      "1977-08-18 00:00:00\n"
     ]
    }
   ],
   "source": [
    "#Задание 1\n",
    "from datetime import datetime\n",
    "ex1 = 'The Moscow Times - Wednesday, October 2, 2002'\n",
    "ex2 = \"The Guardian - Friday, 11.10.13\"\n",
    "ex3 = \"Daily News - Thursday, 18 August 1977\"\n",
    "print(datetime.strptime(ex1.split(\"- \")[1], '%A, %B %d, %Y'))\n",
    "print(datetime.strptime(ex2.split(\"- \")[1], '%A, %m.%d.%y'))\n",
    "print(datetime.strptime(ex3.split(\"- \")[1], '%A, %d %B %Y'))\n"
   ]
  },
  {
   "cell_type": "code",
   "execution_count": 37,
   "id": "1bd7148a",
   "metadata": {},
   "outputs": [
    {
     "name": "stdout",
     "output_type": "stream",
     "text": [
      "['2022-01-01', '2022-01-02', '2022-01-03']\n"
     ]
    }
   ],
   "source": [
    "#Задание 2\n",
    "from datetime import timedelta\n",
    "def date_range(start_date, end_date):\n",
    "    spis = []\n",
    "    try:\n",
    "        datetime.strptime(start_date, '%Y-%m-%d')\n",
    "        datetime.strptime(end_date, '%Y-%m-%d')\n",
    "    except ValueError:\n",
    "        print(spis)\n",
    "        return\n",
    "    start_date_dt = datetime.strptime(start_date, '%Y-%m-%d')\n",
    "    end_date_dt = datetime.strptime(end_date, '%Y-%m-%d')\n",
    "    if  start_date_dt > end_date_dt:\n",
    "        print(spis)\n",
    "        return\n",
    "    else:\n",
    "        while start_date_dt <= end_date_dt:\n",
    "            spis.append(start_date_dt.strftime('%Y-%m-%d'))\n",
    "            start_date_dt += timedelta(days=1)\n",
    "        print(spis)\n",
    "date_range('2022-01-01','2022-01-03')"
   ]
  }
 ],
 "metadata": {
  "kernelspec": {
   "display_name": "Python 3 (ipykernel)",
   "language": "python",
   "name": "python3"
  },
  "language_info": {
   "codemirror_mode": {
    "name": "ipython",
    "version": 3
   },
   "file_extension": ".py",
   "mimetype": "text/x-python",
   "name": "python",
   "nbconvert_exporter": "python",
   "pygments_lexer": "ipython3",
   "version": "3.11.4"
  }
 },
 "nbformat": 4,
 "nbformat_minor": 5
}
