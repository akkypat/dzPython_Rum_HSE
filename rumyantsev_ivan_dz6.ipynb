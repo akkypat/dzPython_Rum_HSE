{
 "cells": [
  {
   "cell_type": "code",
   "execution_count": 2,
   "metadata": {
    "colab": {
     "base_uri": "https://localhost:8080/",
     "height": 206
    },
    "id": "bb7f53c2",
    "outputId": "5dab6cad-b187-4a81-b6cc-f41e73b2b6c9"
   },
   "outputs": [
    {
     "data": {
      "text/html": [
       "<div>\n",
       "<style scoped>\n",
       "    .dataframe tbody tr th:only-of-type {\n",
       "        vertical-align: middle;\n",
       "    }\n",
       "\n",
       "    .dataframe tbody tr th {\n",
       "        vertical-align: top;\n",
       "    }\n",
       "\n",
       "    .dataframe thead th {\n",
       "        text-align: right;\n",
       "    }\n",
       "</style>\n",
       "<table border=\"1\" class=\"dataframe\">\n",
       "  <thead>\n",
       "    <tr style=\"text-align: right;\">\n",
       "      <th></th>\n",
       "      <th>sale_id</th>\n",
       "      <th>branch</th>\n",
       "      <th>city</th>\n",
       "      <th>customer_type</th>\n",
       "      <th>gender</th>\n",
       "      <th>product_name</th>\n",
       "      <th>product_category</th>\n",
       "      <th>unit_price</th>\n",
       "      <th>quantity</th>\n",
       "      <th>tax</th>\n",
       "      <th>total_price</th>\n",
       "      <th>reward_points</th>\n",
       "    </tr>\n",
       "  </thead>\n",
       "  <tbody>\n",
       "    <tr>\n",
       "      <th>0</th>\n",
       "      <td>1</td>\n",
       "      <td>A</td>\n",
       "      <td>New York</td>\n",
       "      <td>Member</td>\n",
       "      <td>Male</td>\n",
       "      <td>Shampoo</td>\n",
       "      <td>Personal Care</td>\n",
       "      <td>5.50</td>\n",
       "      <td>3</td>\n",
       "      <td>1.16</td>\n",
       "      <td>17.66</td>\n",
       "      <td>1</td>\n",
       "    </tr>\n",
       "    <tr>\n",
       "      <th>1</th>\n",
       "      <td>2</td>\n",
       "      <td>B</td>\n",
       "      <td>Los Angeles</td>\n",
       "      <td>Normal</td>\n",
       "      <td>Female</td>\n",
       "      <td>Notebook</td>\n",
       "      <td>Stationery</td>\n",
       "      <td>2.75</td>\n",
       "      <td>10</td>\n",
       "      <td>1.93</td>\n",
       "      <td>29.43</td>\n",
       "      <td>0</td>\n",
       "    </tr>\n",
       "    <tr>\n",
       "      <th>2</th>\n",
       "      <td>3</td>\n",
       "      <td>A</td>\n",
       "      <td>New York</td>\n",
       "      <td>Member</td>\n",
       "      <td>Female</td>\n",
       "      <td>Apple</td>\n",
       "      <td>Fruits</td>\n",
       "      <td>1.20</td>\n",
       "      <td>15</td>\n",
       "      <td>1.26</td>\n",
       "      <td>19.26</td>\n",
       "      <td>1</td>\n",
       "    </tr>\n",
       "    <tr>\n",
       "      <th>3</th>\n",
       "      <td>4</td>\n",
       "      <td>A</td>\n",
       "      <td>Chicago</td>\n",
       "      <td>Normal</td>\n",
       "      <td>Male</td>\n",
       "      <td>Detergent</td>\n",
       "      <td>Household</td>\n",
       "      <td>7.80</td>\n",
       "      <td>5</td>\n",
       "      <td>2.73</td>\n",
       "      <td>41.73</td>\n",
       "      <td>0</td>\n",
       "    </tr>\n",
       "    <tr>\n",
       "      <th>4</th>\n",
       "      <td>5</td>\n",
       "      <td>B</td>\n",
       "      <td>Los Angeles</td>\n",
       "      <td>Member</td>\n",
       "      <td>Female</td>\n",
       "      <td>Orange Juice</td>\n",
       "      <td>Beverages</td>\n",
       "      <td>3.50</td>\n",
       "      <td>7</td>\n",
       "      <td>1.72</td>\n",
       "      <td>26.22</td>\n",
       "      <td>2</td>\n",
       "    </tr>\n",
       "  </tbody>\n",
       "</table>\n",
       "</div>"
      ],
      "text/plain": [
       "   sale_id branch         city customer_type  gender  product_name  \\\n",
       "0        1      A     New York        Member    Male       Shampoo   \n",
       "1        2      B  Los Angeles        Normal  Female      Notebook   \n",
       "2        3      A     New York        Member  Female         Apple   \n",
       "3        4      A      Chicago        Normal    Male     Detergent   \n",
       "4        5      B  Los Angeles        Member  Female  Orange Juice   \n",
       "\n",
       "  product_category  unit_price  quantity   tax  total_price  reward_points  \n",
       "0    Personal Care        5.50         3  1.16        17.66              1  \n",
       "1       Stationery        2.75        10  1.93        29.43              0  \n",
       "2           Fruits        1.20        15  1.26        19.26              1  \n",
       "3        Household        7.80         5  2.73        41.73              0  \n",
       "4        Beverages        3.50         7  1.72        26.22              2  "
      ]
     },
     "metadata": {},
     "output_type": "display_data"
    }
   ],
   "source": [
    "import pandas as pd\n",
    "df = pd.read_csv('sales.csv')\n",
    "display(df.head())"
   ]
  },
  {
   "cell_type": "code",
   "execution_count": 3,
   "metadata": {
    "colab": {
     "base_uri": "https://localhost:8080/"
    },
    "id": "69YGvQ8daTE0",
    "outputId": "ed511694-cb1f-447a-81e3-52f9865b29f4"
   },
   "outputs": [
    {
     "name": "stdout",
     "output_type": "stream",
     "text": [
      "<class 'pandas.core.frame.DataFrame'>\n",
      "RangeIndex: 1000 entries, 0 to 999\n",
      "Data columns (total 12 columns):\n",
      " #   Column            Non-Null Count  Dtype  \n",
      "---  ------            --------------  -----  \n",
      " 0   sale_id           1000 non-null   int64  \n",
      " 1   branch            1000 non-null   object \n",
      " 2   city              1000 non-null   object \n",
      " 3   customer_type     1000 non-null   object \n",
      " 4   gender            1000 non-null   object \n",
      " 5   product_name      1000 non-null   object \n",
      " 6   product_category  1000 non-null   object \n",
      " 7   unit_price        1000 non-null   float64\n",
      " 8   quantity          1000 non-null   int64  \n",
      " 9   tax               1000 non-null   float64\n",
      " 10  total_price       1000 non-null   float64\n",
      " 11  reward_points     1000 non-null   int64  \n",
      "dtypes: float64(3), int64(3), object(6)\n",
      "memory usage: 93.9+ KB\n"
     ]
    }
   ],
   "source": [
    "df.info()"
   ]
  },
  {
   "cell_type": "code",
   "execution_count": 4,
   "metadata": {
    "id": "woGCUzZna24g"
   },
   "outputs": [],
   "source": [
    "data_columns = list(df.columns)\n",
    "num_columns = df.select_dtypes(include='number').columns\n",
    "str_columns = df.select_dtypes(include='object').columns"
   ]
  },
  {
   "cell_type": "code",
   "execution_count": 5,
   "metadata": {
    "colab": {
     "base_uri": "https://localhost:8080/"
    },
    "id": "x_TLABHMbyMy",
    "outputId": "a68a5b62-deec-47b8-b186-f2ec62e88be2"
   },
   "outputs": [
    {
     "data": {
      "text/plain": [
       "['sale_id',\n",
       " 'branch',\n",
       " 'city',\n",
       " 'customer_type',\n",
       " 'gender',\n",
       " 'product_name',\n",
       " 'product_category',\n",
       " 'unit_price',\n",
       " 'quantity',\n",
       " 'tax',\n",
       " 'total_price',\n",
       " 'reward_points']"
      ]
     },
     "execution_count": 5,
     "metadata": {},
     "output_type": "execute_result"
    }
   ],
   "source": [
    "data_columns"
   ]
  },
  {
   "cell_type": "code",
   "execution_count": 6,
   "metadata": {
    "colab": {
     "base_uri": "https://localhost:8080/"
    },
    "id": "kJNEKdE2cG-w",
    "outputId": "e51f9c6b-670d-4610-f339-c3f8b0d8cfad"
   },
   "outputs": [
    {
     "data": {
      "text/plain": [
       "Index(['sale_id', 'unit_price', 'quantity', 'tax', 'total_price',\n",
       "       'reward_points'],\n",
       "      dtype='object')"
      ]
     },
     "execution_count": 6,
     "metadata": {},
     "output_type": "execute_result"
    }
   ],
   "source": [
    "num_columns"
   ]
  },
  {
   "cell_type": "code",
   "execution_count": 7,
   "metadata": {
    "colab": {
     "base_uri": "https://localhost:8080/"
    },
    "id": "YKgaVhRXcPky",
    "outputId": "1a09ab79-276e-4d0a-ad5f-0166a67aed35"
   },
   "outputs": [
    {
     "data": {
      "text/plain": [
       "Index(['branch', 'city', 'customer_type', 'gender', 'product_name',\n",
       "       'product_category'],\n",
       "      dtype='object')"
      ]
     },
     "execution_count": 7,
     "metadata": {},
     "output_type": "execute_result"
    }
   ],
   "source": [
    "str_columns"
   ]
  },
  {
   "cell_type": "code",
   "execution_count": 8,
   "metadata": {
    "colab": {
     "base_uri": "https://localhost:8080/"
    },
    "id": "LtPDY-yAccPI",
    "outputId": "8ad82a3e-49dc-4124-e21c-2499da8f8a96"
   },
   "outputs": [
    {
     "data": {
      "text/plain": [
       "12"
      ]
     },
     "execution_count": 8,
     "metadata": {},
     "output_type": "execute_result"
    }
   ],
   "source": [
    "columns_count = len(data_columns)\n",
    "columns_count"
   ]
  },
  {
   "cell_type": "code",
   "execution_count": 9,
   "metadata": {
    "colab": {
     "base_uri": "https://localhost:8080/"
    },
    "id": "BgxNlnazcyH5",
    "outputId": "f91641fd-ff13-40ae-d6c6-8b6f1080207b"
   },
   "outputs": [
    {
     "data": {
      "text/plain": [
       "1000"
      ]
     },
     "execution_count": 9,
     "metadata": {},
     "output_type": "execute_result"
    }
   ],
   "source": [
    "lines_count = df.shape[0]\n",
    "lines_count"
   ]
  },
  {
   "cell_type": "code",
   "execution_count": 10,
   "metadata": {
    "id": "zVBNgbgkdN-4"
   },
   "outputs": [],
   "source": [
    "converted_data = df.convert_dtypes()"
   ]
  },
  {
   "cell_type": "code",
   "execution_count": 11,
   "metadata": {
    "colab": {
     "base_uri": "https://localhost:8080/",
     "height": 425
    },
    "id": "qLWfOnZZdUob",
    "outputId": "0a4ae072-c62c-408e-e8f3-3bd4f86ef62a"
   },
   "outputs": [
    {
     "data": {
      "text/html": [
       "<div>\n",
       "<style scoped>\n",
       "    .dataframe tbody tr th:only-of-type {\n",
       "        vertical-align: middle;\n",
       "    }\n",
       "\n",
       "    .dataframe tbody tr th {\n",
       "        vertical-align: top;\n",
       "    }\n",
       "\n",
       "    .dataframe thead th {\n",
       "        text-align: right;\n",
       "    }\n",
       "</style>\n",
       "<table border=\"1\" class=\"dataframe\">\n",
       "  <thead>\n",
       "    <tr style=\"text-align: right;\">\n",
       "      <th></th>\n",
       "      <th>0</th>\n",
       "      <th>1</th>\n",
       "      <th>2</th>\n",
       "      <th>3</th>\n",
       "      <th>4</th>\n",
       "    </tr>\n",
       "  </thead>\n",
       "  <tbody>\n",
       "    <tr>\n",
       "      <th>sale_id</th>\n",
       "      <td>1</td>\n",
       "      <td>2</td>\n",
       "      <td>3</td>\n",
       "      <td>4</td>\n",
       "      <td>5</td>\n",
       "    </tr>\n",
       "    <tr>\n",
       "      <th>branch</th>\n",
       "      <td>A</td>\n",
       "      <td>B</td>\n",
       "      <td>A</td>\n",
       "      <td>A</td>\n",
       "      <td>B</td>\n",
       "    </tr>\n",
       "    <tr>\n",
       "      <th>city</th>\n",
       "      <td>New York</td>\n",
       "      <td>Los Angeles</td>\n",
       "      <td>New York</td>\n",
       "      <td>Chicago</td>\n",
       "      <td>Los Angeles</td>\n",
       "    </tr>\n",
       "    <tr>\n",
       "      <th>customer_type</th>\n",
       "      <td>Member</td>\n",
       "      <td>Normal</td>\n",
       "      <td>Member</td>\n",
       "      <td>Normal</td>\n",
       "      <td>Member</td>\n",
       "    </tr>\n",
       "    <tr>\n",
       "      <th>gender</th>\n",
       "      <td>Male</td>\n",
       "      <td>Female</td>\n",
       "      <td>Female</td>\n",
       "      <td>Male</td>\n",
       "      <td>Female</td>\n",
       "    </tr>\n",
       "    <tr>\n",
       "      <th>product_name</th>\n",
       "      <td>Shampoo</td>\n",
       "      <td>Notebook</td>\n",
       "      <td>Apple</td>\n",
       "      <td>Detergent</td>\n",
       "      <td>Orange Juice</td>\n",
       "    </tr>\n",
       "    <tr>\n",
       "      <th>product_category</th>\n",
       "      <td>Personal Care</td>\n",
       "      <td>Stationery</td>\n",
       "      <td>Fruits</td>\n",
       "      <td>Household</td>\n",
       "      <td>Beverages</td>\n",
       "    </tr>\n",
       "    <tr>\n",
       "      <th>unit_price</th>\n",
       "      <td>5.5</td>\n",
       "      <td>2.75</td>\n",
       "      <td>1.2</td>\n",
       "      <td>7.8</td>\n",
       "      <td>3.5</td>\n",
       "    </tr>\n",
       "    <tr>\n",
       "      <th>quantity</th>\n",
       "      <td>3</td>\n",
       "      <td>10</td>\n",
       "      <td>15</td>\n",
       "      <td>5</td>\n",
       "      <td>7</td>\n",
       "    </tr>\n",
       "    <tr>\n",
       "      <th>tax</th>\n",
       "      <td>1.16</td>\n",
       "      <td>1.93</td>\n",
       "      <td>1.26</td>\n",
       "      <td>2.73</td>\n",
       "      <td>1.72</td>\n",
       "    </tr>\n",
       "    <tr>\n",
       "      <th>total_price</th>\n",
       "      <td>17.66</td>\n",
       "      <td>29.43</td>\n",
       "      <td>19.26</td>\n",
       "      <td>41.73</td>\n",
       "      <td>26.22</td>\n",
       "    </tr>\n",
       "    <tr>\n",
       "      <th>reward_points</th>\n",
       "      <td>1</td>\n",
       "      <td>0</td>\n",
       "      <td>1</td>\n",
       "      <td>0</td>\n",
       "      <td>2</td>\n",
       "    </tr>\n",
       "  </tbody>\n",
       "</table>\n",
       "</div>"
      ],
      "text/plain": [
       "                              0            1         2          3  \\\n",
       "sale_id                       1            2         3          4   \n",
       "branch                        A            B         A          A   \n",
       "city                   New York  Los Angeles  New York    Chicago   \n",
       "customer_type            Member       Normal    Member     Normal   \n",
       "gender                     Male       Female    Female       Male   \n",
       "product_name            Shampoo     Notebook     Apple  Detergent   \n",
       "product_category  Personal Care   Stationery    Fruits  Household   \n",
       "unit_price                  5.5         2.75       1.2        7.8   \n",
       "quantity                      3           10        15          5   \n",
       "tax                        1.16         1.93      1.26       2.73   \n",
       "total_price               17.66        29.43     19.26      41.73   \n",
       "reward_points                 1            0         1          0   \n",
       "\n",
       "                             4  \n",
       "sale_id                      5  \n",
       "branch                       B  \n",
       "city               Los Angeles  \n",
       "customer_type           Member  \n",
       "gender                  Female  \n",
       "product_name      Orange Juice  \n",
       "product_category     Beverages  \n",
       "unit_price                 3.5  \n",
       "quantity                     7  \n",
       "tax                       1.72  \n",
       "total_price              26.22  \n",
       "reward_points                2  "
      ]
     },
     "execution_count": 11,
     "metadata": {},
     "output_type": "execute_result"
    }
   ],
   "source": [
    "converted_data_sample = converted_data.head()\n",
    "transposed_data_samle = converted_data_sample.transpose()\n",
    "transposed_data_samle"
   ]
  },
  {
   "cell_type": "code",
   "execution_count": 12,
   "metadata": {
    "colab": {
     "base_uri": "https://localhost:8080/",
     "height": 209
    },
    "id": "MyRhlDg-eJ0A",
    "outputId": "85519f4d-1a36-4201-ab1c-4920d41f757f"
   },
   "outputs": [
    {
     "data": {
      "text/plain": [
       "city\n",
       "New York       344\n",
       "Chicago        330\n",
       "Los Angeles    326\n",
       "Name: count, dtype: int64"
      ]
     },
     "execution_count": 12,
     "metadata": {},
     "output_type": "execute_result"
    }
   ],
   "source": [
    "converted_data.value_counts('city')"
   ]
  },
  {
   "cell_type": "code",
   "execution_count": 13,
   "metadata": {
    "colab": {
     "base_uri": "https://localhost:8080/",
     "height": 178
    },
    "id": "F3zH6pR8eU9B",
    "outputId": "da735661-b3f7-4b81-966f-14cd5bbbed8f"
   },
   "outputs": [
    {
     "data": {
      "text/plain": [
       "customer_type\n",
       "Member    516\n",
       "Normal    484\n",
       "Name: count, dtype: int64"
      ]
     },
     "execution_count": 13,
     "metadata": {},
     "output_type": "execute_result"
    }
   ],
   "source": [
    "converted_data.value_counts('customer_type')"
   ]
  },
  {
   "cell_type": "code",
   "execution_count": 14,
   "metadata": {
    "colab": {
     "base_uri": "https://localhost:8080/",
     "height": 178
    },
    "id": "dgSd_Th2ebYZ",
    "outputId": "1b1bafcc-dceb-48a3-8839-03da7ab4fbf0"
   },
   "outputs": [
    {
     "data": {
      "text/plain": [
       "gender\n",
       "Male      528\n",
       "Female    472\n",
       "Name: count, dtype: int64"
      ]
     },
     "execution_count": 14,
     "metadata": {},
     "output_type": "execute_result"
    }
   ],
   "source": [
    "converted_data.value_counts('gender')"
   ]
  },
  {
   "cell_type": "code",
   "execution_count": 15,
   "metadata": {
    "colab": {
     "base_uri": "https://localhost:8080/",
     "height": 178
    },
    "id": "Jst8slEXegDV",
    "outputId": "c8ecf3b7-789d-4f85-8c88-64398c7fdd74"
   },
   "outputs": [
    {
     "data": {
      "text/plain": [
       "branch\n",
       "A    674\n",
       "B    326\n",
       "Name: count, dtype: int64"
      ]
     },
     "execution_count": 15,
     "metadata": {},
     "output_type": "execute_result"
    }
   ],
   "source": [
    "converted_data.value_counts('branch')"
   ]
  },
  {
   "cell_type": "code",
   "execution_count": 16,
   "metadata": {
    "colab": {
     "base_uri": "https://localhost:8080/",
     "height": 272
    },
    "id": "-IFqullXejqq",
    "outputId": "93b09ce7-4dd0-42d4-baec-bbec0f09ac79"
   },
   "outputs": [
    {
     "data": {
      "text/plain": [
       "product_name\n",
       "Shampoo         224\n",
       "Orange Juice    208\n",
       "Notebook        194\n",
       "Detergent       189\n",
       "Apple           185\n",
       "Name: count, dtype: int64"
      ]
     },
     "execution_count": 16,
     "metadata": {},
     "output_type": "execute_result"
    }
   ],
   "source": [
    "converted_data.value_counts('product_name')"
   ]
  },
  {
   "cell_type": "code",
   "execution_count": 17,
   "metadata": {
    "colab": {
     "base_uri": "https://localhost:8080/",
     "height": 272
    },
    "id": "Nq2IliOOepMk",
    "outputId": "52e80424-b374-482a-9885-837ddbb810b5"
   },
   "outputs": [
    {
     "data": {
      "text/plain": [
       "product_category\n",
       "Fruits           209\n",
       "Personal Care    208\n",
       "Household        198\n",
       "Stationery       198\n",
       "Beverages        187\n",
       "Name: count, dtype: int64"
      ]
     },
     "execution_count": 17,
     "metadata": {},
     "output_type": "execute_result"
    }
   ],
   "source": [
    "converted_data.value_counts('product_category')"
   ]
  },
  {
   "cell_type": "code",
   "execution_count": 18,
   "metadata": {
    "colab": {
     "base_uri": "https://localhost:8080/"
    },
    "id": "9-9Wkm2VfMP5",
    "outputId": "f73056c3-543e-44f0-a3f7-c51750fbc415"
   },
   "outputs": [
    {
     "name": "stdout",
     "output_type": "stream",
     "text": [
      "1.02\n",
      "20.98\n"
     ]
    }
   ],
   "source": [
    "print(converted_data['unit_price'].min())\n",
    "print(converted_data['unit_price'].max())"
   ]
  },
  {
   "cell_type": "code",
   "execution_count": 19,
   "metadata": {
    "colab": {
     "base_uri": "https://localhost:8080/"
    },
    "id": "lXFZE_I_fb39",
    "outputId": "3cd27ab3-9b6f-4d4d-f0ce-d67b1929cf46"
   },
   "outputs": [
    {
     "name": "stdout",
     "output_type": "stream",
     "text": [
      "1\n",
      "20\n"
     ]
    }
   ],
   "source": [
    "print(converted_data['quantity'].min())\n",
    "print(converted_data['quantity'].max())"
   ]
  },
  {
   "cell_type": "code",
   "execution_count": 20,
   "metadata": {
    "colab": {
     "base_uri": "https://localhost:8080/"
    },
    "id": "ePFSg0yyfmcU",
    "outputId": "341f95e3-4241-468a-eb04-8713bcd64cf9"
   },
   "outputs": [
    {
     "name": "stdout",
     "output_type": "stream",
     "text": [
      "0.08\n",
      "28.39\n"
     ]
    }
   ],
   "source": [
    "print(converted_data['tax'].min())\n",
    "print(converted_data['tax'].max())"
   ]
  },
  {
   "cell_type": "code",
   "execution_count": 21,
   "metadata": {
    "colab": {
     "base_uri": "https://localhost:8080/"
    },
    "id": "m5ORpzW3fwRB",
    "outputId": "3d41af57-196b-4828-b3bf-bd166f7245b5"
   },
   "outputs": [
    {
     "name": "stdout",
     "output_type": "stream",
     "text": [
      "118583.90000000005\n"
     ]
    }
   ],
   "source": [
    "print(sum(converted_data['unit_price'] * converted_data['quantity'] + converted_data['tax']))"
   ]
  },
  {
   "cell_type": "code",
   "execution_count": 22,
   "metadata": {
    "colab": {
     "base_uri": "https://localhost:8080/"
    },
    "id": "NX4ZfpbKgIRf",
    "outputId": "3e9da8d9-611b-492f-b2b8-cbd4be3c491f"
   },
   "outputs": [
    {
     "name": "stdout",
     "output_type": "stream",
     "text": [
      "118583.9\n"
     ]
    }
   ],
   "source": [
    "print(converted_data['total_price'].sum())"
   ]
  },
  {
   "cell_type": "code",
   "execution_count": 23,
   "metadata": {
    "colab": {
     "base_uri": "https://localhost:8080/"
    },
    "id": "pI0-5bOTi4fg",
    "outputId": "195c11d3-c9d2-40d2-8e0f-d495f835fe03"
   },
   "outputs": [
    {
     "name": "stdout",
     "output_type": "stream",
     "text": [
      "Column                        \tCount\tCount\t Count\tCount\n",
      "                                        distinct null\tnot null\n",
      "sale_id                       \t  1000\t  1000\t     0\t  1000\n",
      "branch                        \t  1000\t     2\t     0\t  1000\n",
      "city                          \t  1000\t     3\t     0\t  1000\n",
      "customer_type                 \t  1000\t     2\t     0\t  1000\n",
      "gender                        \t  1000\t     2\t     0\t  1000\n",
      "product_name                  \t  1000\t     5\t     0\t  1000\n",
      "product_category              \t  1000\t     5\t     0\t  1000\n",
      "unit_price                    \t  1000\t   787\t     0\t  1000\n",
      "quantity                      \t  1000\t    20\t     0\t  1000\n",
      "tax                           \t  1000\t   755\t     0\t  1000\n",
      "total_price                   \t  1000\t   956\t     0\t  1000\n",
      "reward_points                 \t  1000\t    43\t     0\t  1000\n"
     ]
    }
   ],
   "source": [
    "print(\"%-30s\\tCount\\tCount\\t Count\\tCount\" % \"Column\")\n",
    "print(\"                                        distinct null\\tnot null\")\n",
    "for col in data_columns:\n",
    "  count = df[col].count()\n",
    "  count_dist = len(pd.unique(df[col]))\n",
    "  count_null = len(df[df[col].isnull()])\n",
    "  count_not_null = len(df[df[col].notnull()])\n",
    "  print(\"%-30s\\t%6d\\t%6d\\t%6d\\t%6d\" % (col, count , count_dist, count_null, count_not_null))"
   ]
  },
  {
   "cell_type": "code",
   "execution_count": 24,
   "metadata": {
    "colab": {
     "base_uri": "https://localhost:8080/",
     "height": 174
    },
    "id": "T-AdAL_lhZ0d",
    "outputId": "4fa6330d-ce22-4927-e06e-48169a241ffd"
   },
   "outputs": [
    {
     "data": {
      "text/html": [
       "<div>\n",
       "<style scoped>\n",
       "    .dataframe tbody tr th:only-of-type {\n",
       "        vertical-align: middle;\n",
       "    }\n",
       "\n",
       "    .dataframe tbody tr th {\n",
       "        vertical-align: top;\n",
       "    }\n",
       "\n",
       "    .dataframe thead th {\n",
       "        text-align: right;\n",
       "    }\n",
       "</style>\n",
       "<table border=\"1\" class=\"dataframe\">\n",
       "  <thead>\n",
       "    <tr style=\"text-align: right;\">\n",
       "      <th></th>\n",
       "      <th>branch</th>\n",
       "      <th>city</th>\n",
       "      <th>customer_type</th>\n",
       "      <th>gender</th>\n",
       "      <th>product_name</th>\n",
       "      <th>product_category</th>\n",
       "    </tr>\n",
       "  </thead>\n",
       "  <tbody>\n",
       "    <tr>\n",
       "      <th>count</th>\n",
       "      <td>1000</td>\n",
       "      <td>1000</td>\n",
       "      <td>1000</td>\n",
       "      <td>1000</td>\n",
       "      <td>1000</td>\n",
       "      <td>1000</td>\n",
       "    </tr>\n",
       "    <tr>\n",
       "      <th>unique</th>\n",
       "      <td>2</td>\n",
       "      <td>3</td>\n",
       "      <td>2</td>\n",
       "      <td>2</td>\n",
       "      <td>5</td>\n",
       "      <td>5</td>\n",
       "    </tr>\n",
       "    <tr>\n",
       "      <th>top</th>\n",
       "      <td>A</td>\n",
       "      <td>New York</td>\n",
       "      <td>Member</td>\n",
       "      <td>Male</td>\n",
       "      <td>Shampoo</td>\n",
       "      <td>Fruits</td>\n",
       "    </tr>\n",
       "    <tr>\n",
       "      <th>freq</th>\n",
       "      <td>674</td>\n",
       "      <td>344</td>\n",
       "      <td>516</td>\n",
       "      <td>528</td>\n",
       "      <td>224</td>\n",
       "      <td>209</td>\n",
       "    </tr>\n",
       "  </tbody>\n",
       "</table>\n",
       "</div>"
      ],
      "text/plain": [
       "       branch      city customer_type gender product_name product_category\n",
       "count    1000      1000          1000   1000         1000             1000\n",
       "unique      2         3             2      2            5                5\n",
       "top         A  New York        Member   Male      Shampoo           Fruits\n",
       "freq      674       344           516    528          224              209"
      ]
     },
     "execution_count": 24,
     "metadata": {},
     "output_type": "execute_result"
    }
   ],
   "source": [
    "df[str_columns].describe()"
   ]
  },
  {
   "cell_type": "code",
   "execution_count": 25,
   "metadata": {
    "colab": {
     "base_uri": "https://localhost:8080/"
    },
    "id": "oo5yDRLbhfPk",
    "outputId": "8317de61-0e9d-4b9c-838d-4ce7df8435fb"
   },
   "outputs": [
    {
     "name": "stdout",
     "output_type": "stream",
     "text": [
      "                   Column\t Max\t Min\t Avg\n",
      "branch                   \t  1.00\t  1.00\t  1.00\n",
      "city                     \t 11.00\t  7.00\t  8.65\n",
      "customer_type            \t  6.00\t  6.00\t  6.00\n",
      "gender                   \t  6.00\t  4.00\t  4.94\n",
      "product_name             \t 12.00\t  5.00\t  8.24\n",
      "product_category         \t 13.00\t  6.00\t  9.40\n"
     ]
    }
   ],
   "source": [
    "print(\"%25s\\t Max\\t Min\\t Avg\" % \"Column\")\n",
    "for col in str_columns:\n",
    "  string_lengths = converted_data[col].str.len()\n",
    "  avg_length = string_lengths.mean()\n",
    "  max_length = string_lengths.max()\n",
    "  min_length = string_lengths.min()\n",
    "  print(\"{:25s}\\t{:6.2f}\\t{:6.2f}\\t{:6.2f}\".format(col,max_length,min_length,avg_length))"
   ]
  },
  {
   "cell_type": "code",
   "execution_count": 26,
   "metadata": {
    "colab": {
     "base_uri": "https://localhost:8080/",
     "height": 300
    },
    "id": "VarXStbklWoE",
    "outputId": "3b54b6cc-8c3b-489b-ee14-713a6c3eefa2"
   },
   "outputs": [
    {
     "data": {
      "text/html": [
       "<div>\n",
       "<style scoped>\n",
       "    .dataframe tbody tr th:only-of-type {\n",
       "        vertical-align: middle;\n",
       "    }\n",
       "\n",
       "    .dataframe tbody tr th {\n",
       "        vertical-align: top;\n",
       "    }\n",
       "\n",
       "    .dataframe thead th {\n",
       "        text-align: right;\n",
       "    }\n",
       "</style>\n",
       "<table border=\"1\" class=\"dataframe\">\n",
       "  <thead>\n",
       "    <tr style=\"text-align: right;\">\n",
       "      <th></th>\n",
       "      <th>sale_id</th>\n",
       "      <th>unit_price</th>\n",
       "      <th>quantity</th>\n",
       "      <th>tax</th>\n",
       "      <th>total_price</th>\n",
       "      <th>reward_points</th>\n",
       "    </tr>\n",
       "  </thead>\n",
       "  <tbody>\n",
       "    <tr>\n",
       "      <th>count</th>\n",
       "      <td>1000.000000</td>\n",
       "      <td>1000.000000</td>\n",
       "      <td>1000.000000</td>\n",
       "      <td>1000.000000</td>\n",
       "      <td>1000.000000</td>\n",
       "      <td>1000.000000</td>\n",
       "    </tr>\n",
       "    <tr>\n",
       "      <th>mean</th>\n",
       "      <td>500.500000</td>\n",
       "      <td>10.836110</td>\n",
       "      <td>10.337000</td>\n",
       "      <td>7.758010</td>\n",
       "      <td>118.583900</td>\n",
       "      <td>6.057000</td>\n",
       "    </tr>\n",
       "    <tr>\n",
       "      <th>std</th>\n",
       "      <td>288.819436</td>\n",
       "      <td>5.775924</td>\n",
       "      <td>6.029908</td>\n",
       "      <td>6.538066</td>\n",
       "      <td>99.936441</td>\n",
       "      <td>9.350464</td>\n",
       "    </tr>\n",
       "    <tr>\n",
       "      <th>min</th>\n",
       "      <td>1.000000</td>\n",
       "      <td>1.020000</td>\n",
       "      <td>1.000000</td>\n",
       "      <td>0.080000</td>\n",
       "      <td>1.210000</td>\n",
       "      <td>0.000000</td>\n",
       "    </tr>\n",
       "    <tr>\n",
       "      <th>25%</th>\n",
       "      <td>250.750000</td>\n",
       "      <td>5.867500</td>\n",
       "      <td>5.000000</td>\n",
       "      <td>2.510000</td>\n",
       "      <td>38.380000</td>\n",
       "      <td>0.000000</td>\n",
       "    </tr>\n",
       "    <tr>\n",
       "      <th>50%</th>\n",
       "      <td>500.500000</td>\n",
       "      <td>10.615000</td>\n",
       "      <td>10.000000</td>\n",
       "      <td>5.870000</td>\n",
       "      <td>89.705000</td>\n",
       "      <td>0.000000</td>\n",
       "    </tr>\n",
       "    <tr>\n",
       "      <th>75%</th>\n",
       "      <td>750.250000</td>\n",
       "      <td>15.882500</td>\n",
       "      <td>16.000000</td>\n",
       "      <td>11.522500</td>\n",
       "      <td>176.072500</td>\n",
       "      <td>10.000000</td>\n",
       "    </tr>\n",
       "    <tr>\n",
       "      <th>max</th>\n",
       "      <td>1000.000000</td>\n",
       "      <td>20.980000</td>\n",
       "      <td>20.000000</td>\n",
       "      <td>28.390000</td>\n",
       "      <td>433.990000</td>\n",
       "      <td>43.000000</td>\n",
       "    </tr>\n",
       "  </tbody>\n",
       "</table>\n",
       "</div>"
      ],
      "text/plain": [
       "           sale_id   unit_price     quantity          tax  total_price  \\\n",
       "count  1000.000000  1000.000000  1000.000000  1000.000000  1000.000000   \n",
       "mean    500.500000    10.836110    10.337000     7.758010   118.583900   \n",
       "std     288.819436     5.775924     6.029908     6.538066    99.936441   \n",
       "min       1.000000     1.020000     1.000000     0.080000     1.210000   \n",
       "25%     250.750000     5.867500     5.000000     2.510000    38.380000   \n",
       "50%     500.500000    10.615000    10.000000     5.870000    89.705000   \n",
       "75%     750.250000    15.882500    16.000000    11.522500   176.072500   \n",
       "max    1000.000000    20.980000    20.000000    28.390000   433.990000   \n",
       "\n",
       "       reward_points  \n",
       "count    1000.000000  \n",
       "mean        6.057000  \n",
       "std         9.350464  \n",
       "min         0.000000  \n",
       "25%         0.000000  \n",
       "50%         0.000000  \n",
       "75%        10.000000  \n",
       "max        43.000000  "
      ]
     },
     "execution_count": 26,
     "metadata": {},
     "output_type": "execute_result"
    }
   ],
   "source": [
    "df.describe()"
   ]
  },
  {
   "cell_type": "code",
   "execution_count": 27,
   "metadata": {
    "id": "gnS2jM7OnhoM"
   },
   "outputs": [],
   "source": [
    "import numpy as np\n",
    "import matplotlib.pyplot as plt"
   ]
  },
  {
   "cell_type": "code",
   "execution_count": 28,
   "metadata": {
    "colab": {
     "base_uri": "https://localhost:8080/"
    },
    "id": "kZso1PmAnQnv",
    "outputId": "e005895d-6ad5-41f3-9c3c-ce1ae259ce88"
   },
   "outputs": [
    {
     "data": {
      "text/plain": [
       "0.055443201550503404"
      ]
     },
     "execution_count": 28,
     "metadata": {},
     "output_type": "execute_result"
    }
   ],
   "source": [
    "sorted_data = (df.sort_values(by='product_name'))['quantity']\n",
    "split_index = len(sorted_data) // 2\n",
    "reference = sorted_data.iloc[:split_index]\n",
    "monitored = sorted_data.iloc[split_index:]\n",
    "full_dataset = np.concatenate((reference, monitored))\n",
    "_, bin_edges = np.histogram(full_dataset, bins=\"doane\")\n",
    "reference_hist, _ = np.histogram(reference, bins=bin_edges)\n",
    "monitored_hist, _ = np.histogram(monitored, bins=bin_edges)\n",
    "reference_proportions = reference_hist / np.sum(reference_hist)\n",
    "monitored_proportions = monitored_hist / np.sum(monitored_hist)\n",
    "monitored_proportions = np.where(monitored_proportions == 0, 1e-6, monitored_proportions)\n",
    "reference_proportions = np.where(reference_proportions == 0, 1e-6, reference_proportions)\n",
    "psi_values = (monitored_proportions - reference_proportions) * np.log(monitored_proportions /\n",
    "reference_proportions)\n",
    "psi = np.sum(psi_values)\n",
    "psi"
   ]
  },
  {
   "cell_type": "code",
   "execution_count": 29,
   "metadata": {
    "colab": {
     "base_uri": "https://localhost:8080/",
     "height": 501
    },
    "id": "pS9h6wdHoDQ6",
    "outputId": "eae2eeaf-3193-4433-ca13-d0e809cfa2e3"
   },
   "outputs": [
    {
     "data": {
      "image/png": "[encoded data removed]",
      "text/plain": [
       "<Figure size 640x480 with 2 Axes>"
      ]
     },
     "metadata": {},
     "output_type": "display_data"
    }
   ],
   "source": [
    "matrix = converted_data[num_columns].corr()\n",
    "plt.imshow(matrix, cmap='Blues')\n",
    "plt.colorbar()\n",
    "variables = []\n",
    "for i in matrix.columns:\n",
    "  variables.append(i)\n",
    "plt.xticks(range(len(matrix)), variables, rotation=45, ha='right')\n",
    "plt.yticks(range(len(matrix)), variables)\n",
    "plt.show()"
   ]
  },
  {
   "cell_type": "code",
   "execution_count": 30,
   "metadata": {
    "colab": {
     "base_uri": "https://localhost:8080/"
    },
    "id": "gbjdobGjojJi",
    "outputId": "3f4b2475-2875-4a24-b6a8-9dafae20c079"
   },
   "outputs": [
    {
     "name": "stdout",
     "output_type": "stream",
     "text": [
      "sale_id                  \t [1000, 999, 998, 997, 996]\n",
      "unit_price               \t [20.98, 20.96, 20.96, 20.92, 20.91]\n",
      "quantity                 \t [20, 20, 20, 20, 20]\n",
      "tax                      \t [28.39, 27.94, 27.81, 27.68, 27.58]\n",
      "total_price              \t [433.99, 427.14, 425.1, 423.08, 421.64]\n",
      "reward_points            \t [43, 42, 41, 41, 40]\n"
     ]
    }
   ],
   "source": [
    "topX = 5\n",
    "for col in num_columns:\n",
    "  print(\"{:25s}\\t\".format(col),list(df[col].nlargest(n=topX)))"
   ]
  },
  {
   "cell_type": "code",
   "execution_count": 32,
   "metadata": {
    "colab": {
     "base_uri": "https://localhost:8080/",
     "height": 1000
    },
    "id": "h8x-n__EoytZ",
    "outputId": "0be033e4-520d-4992-a4c9-3658fb63cc8c"
   },
   "outputs": [
    {
     "data": {
      "text/plain": [
       "array([[<Axes: title={'center': 'sale_id'}>,\n",
       "        <Axes: title={'center': 'unit_price'}>],\n",
       "       [<Axes: title={'center': 'quantity'}>,\n",
       "        <Axes: title={'center': 'tax'}>],\n",
       "       [<Axes: title={'center': 'total_price'}>,\n",
       "        <Axes: title={'center': 'reward_points'}>]], dtype=object)"
      ]
     },
     "execution_count": 32,
     "metadata": {},
     "output_type": "execute_result"
    },
    {
     "data": {
      "text/plain": [
       "<Figure size 640x480 with 0 Axes>"
      ]
     },
     "metadata": {},
     "output_type": "display_data"
    },
    {
     "data": {
      "image/png": "[encoded data removed]",
      "text/plain": [
       "<Figure size 1000x500 with 1 Axes>"
      ]
     },
     "metadata": {},
     "output_type": "display_data"
    },
    {
     "data": {
      "text/plain": [
       "<Figure size 640x480 with 0 Axes>"
      ]
     },
     "metadata": {},
     "output_type": "display_data"
    },
    {
     "data": {
      "image/png": "[encoded data removed]",
      "text/plain": [
       "<Figure size 4000x2000 with 6 Axes>"
      ]
     },
     "metadata": {},
     "output_type": "display_data"
    }
   ],
   "source": [
    "plt.figure()\n",
    "converted_data.plot.hist(figsize=(10, 5))\n",
    "plt.figure()\n",
    "converted_data.hist(figsize=(40, 20))"
   ]
  }
 ],
 "metadata": {
  "colab": {
   "authorship_tag": "ABX9TyMBMDbKkT3ikOBF5m7eoQ4q",
   "include_colab_link": true,
   "mount_file_id": "1uZ-iKdMRjeRAQy797HKjYzOGbYVwlkzr",
   "provenance": []
  },
  "kernelspec": {
   "display_name": "Python 3 (ipykernel)",
   "language": "python",
   "name": "python3"
  },
  "language_info": {
   "codemirror_mode": {
    "name": "ipython",
    "version": 3
   },
   "file_extension": ".py",
   "mimetype": "text/x-python",
   "name": "python",
   "nbconvert_exporter": "python",
   "pygments_lexer": "ipython3",
   "version": "3.11.4"
  }
 },
 "nbformat": 4,
 "nbformat_minor": 1
}
