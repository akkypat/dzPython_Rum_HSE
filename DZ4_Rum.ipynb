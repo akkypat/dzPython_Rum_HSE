{
 "cells": [
  {
   "cell_type": "code",
   "execution_count": 113,
   "id": "48ce62bd",
   "metadata": {},
   "outputs": [],
   "source": [
    "#Задание1\n",
    "import re\n",
    "def num(car_id):\n",
    "    check = re.findall(r'[А|В|Е|К|М|Н|О|Р|С|Т|У|Х]\\d{3}[А|В|Е|К|М|Н|О|Р|С|Т|У|Х]{2}\\d{2}',car_id)\n",
    "    for i in range(0,len(check)):\n",
    "        check_num = check[i]\n",
    "        num = check[i][0:6]\n",
    "        reg = check[i][6:8]\n",
    "        print('Номер ' + num + ' валиден. Регион: ' + check_num[6:8] +'.')"
   ]
  },
  {
   "cell_type": "code",
   "execution_count": 114,
   "id": "546ef643",
   "metadata": {},
   "outputs": [
    {
     "name": "stdout",
     "output_type": "stream",
     "text": [
      "Номер А222ВС валиден. Регион: 96.\n"
     ]
    }
   ],
   "source": [
    "num('А222ВС96')"
   ]
  },
  {
   "cell_type": "code",
   "execution_count": 130,
   "id": "4747cf03",
   "metadata": {},
   "outputs": [],
   "source": [
    "#Задание 2\n",
    "def del_rep(some_string):\n",
    "    pattern = r'((?:\\b\\w+\\W*)\\b)\\1+'\n",
    "    result = re.sub(pattern, r'\\1', some_string)\n",
    "    return result"
   ]
  },
  {
   "cell_type": "code",
   "execution_count": 132,
   "id": "f4813048",
   "metadata": {},
   "outputs": [
    {
     "data": {
      "text/plain": [
       "'Напишите функцию функцию, которая будет удалять все последовательные повторы слов из заданной строки при помощи регулярных выражений'"
      ]
     },
     "execution_count": 132,
     "metadata": {},
     "output_type": "execute_result"
    }
   ],
   "source": [
    "del_rep('Напишите функцию функцию, которая будет будет будет будет удалять все все все все последовательные повторы слов из из из из заданной строки строки при помощи регулярных выражений')"
   ]
  }
 ],
 "metadata": {
  "kernelspec": {
   "display_name": "Python 3 (ipykernel)",
   "language": "python",
   "name": "python3"
  },
  "language_info": {
   "codemirror_mode": {
    "name": "ipython",
    "version": 3
   },
   "file_extension": ".py",
   "mimetype": "text/x-python",
   "name": "python",
   "nbconvert_exporter": "python",
   "pygments_lexer": "ipython3",
   "version": "3.11.4"
  }
 },
 "nbformat": 4,
 "nbformat_minor": 5
}
