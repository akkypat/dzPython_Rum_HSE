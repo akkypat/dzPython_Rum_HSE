{
 "cells": [
  {
   "cell_type": "code",
   "execution_count": 6,
   "id": "2347bb45",
   "metadata": {},
   "outputs": [],
   "source": [
    "import pandas as pd"
   ]
  },
  {
   "cell_type": "code",
   "execution_count": 26,
   "id": "aa5a3110",
   "metadata": {},
   "outputs": [
    {
     "name": "stdout",
     "output_type": "stream",
     "text": [
      "city day_temperatre night_temperature\n",
      "Оренбург 15.6 -2.0\n",
      "Липецк 6.6 -3.0\n",
      "Челябинск -2.7 -7.1\n",
      "Оренбург 5.8 -6.0\n",
      "Томск 5.7 -5.3\n",
      "Ханты-Мансийск 4.0 -6.3\n"
     ]
    }
   ],
   "source": [
    "with open(\"city_weather.csv\", encoding=\"utf-8\", mode=\"r\") as f:\n",
    "    for i, line in enumerate(f):\n",
    "        city, date, day_temperatre, night_temperature = line.strip().split(\",\")\n",
    "        print(city, day_temperatre, night_temperature)\n",
    "        if i > 5:\n",
    "            break"
   ]
  },
  {
   "cell_type": "code",
   "execution_count": 87,
   "id": "883ced6d",
   "metadata": {},
   "outputs": [
    {
     "name": "stdout",
     "output_type": "stream",
     "text": [
      "city\n",
      "Абакан            -3.290323\n",
      "Анадырь          -25.261290\n",
      "Архангельск       -5.506452\n",
      "Астрахань         15.645161\n",
      "Барнаул           -7.651613\n",
      "                    ...    \n",
      "Челябинск          1.670588\n",
      "Чита             -12.029032\n",
      "Элиста            14.400000\n",
      "Южно-Сахалинск    -7.232258\n",
      "Якутск           -34.361290\n",
      "Name: total_temp, Length: 72, dtype: float64\n",
      "--------------------------------------------------\n",
      "federal_district\n",
      "Дальневосточный ФО     -12.746237\n",
      "Приволжский ФО           3.049731\n",
      "Северо-Западный ФО      -1.176540\n",
      "Северо-Кавказский ФО    14.308738\n",
      "Сибирский ФО            -8.529032\n",
      "Уральский ФО            -3.775000\n",
      "Центральный  ФО          7.392339\n",
      "Южный ФО                13.723118\n",
      "Name: total_temp, dtype: float64\n",
      "--------------------------------------------------\n",
      "             city   diff_okr\n",
      "0        Оренбург  10.550269\n",
      "1          Липецк  -3.792339\n",
      "2       Челябинск  -6.025000\n",
      "3        Оренбург  -3.249731\n",
      "4           Томск   8.929032\n",
      "...           ...        ...\n",
      "2254  Владивосток  19.846237\n",
      "2255     Салехард -12.123460\n",
      "2256     Салехард  -9.525000\n",
      "2257     Улан-Удэ   5.529032\n",
      "2258     Оренбург  -9.049731\n",
      "\n",
      "[2259 rows x 2 columns]\n",
      "--------------------------------------------------\n"
     ]
    }
   ],
   "source": [
    "df_weather = pd.read_csv(\"city_weather.csv\")\n",
    "df_okr = pd.read_csv(\"district_to_city.csv\")\n",
    "df_weather['total_temp'] = df_weather['day_temperatre'].astype(float) + df_weather['night_temperature'].astype(float)\n",
    "print(df_weather.groupby('city')['total_temp'].mean())\n",
    "print(50 * '-')\n",
    "df2 = df_weather.merge(df_okr, \n",
    "                left_on='city',\n",
    "                right_on='city',\n",
    "                how='left')\n",
    "print(df2.groupby('federal_district')['total_temp'].mean())\n",
    "print(50 * '-')\n",
    "#print(df2[['city', 'federal_district', 'total_temp']])\n",
    "okr = pd.DataFrame(df2.groupby('federal_district')['total_temp'].mean())\n",
    "df3 = df2.merge(okr, \n",
    "                left_on='federal_district',\n",
    "                right_on='federal_district',\n",
    "                how='left')\n",
    "df3['diff_okr'] = df3['total_temp_x'].astype(float) - df3['total_temp_y'].astype(float)\n",
    "print(df3[['city', 'diff_okr']])\n",
    "print(50 * '-')"
   ]
  }
 ],
 "metadata": {
  "kernelspec": {
   "display_name": "Python 3 (ipykernel)",
   "language": "python",
   "name": "python3"
  },
  "language_info": {
   "codemirror_mode": {
    "name": "ipython",
    "version": 3
   },
   "file_extension": ".py",
   "mimetype": "text/x-python",
   "name": "python",
   "nbconvert_exporter": "python",
   "pygments_lexer": "ipython3",
   "version": "3.11.4"
  }
 },
 "nbformat": 4,
 "nbformat_minor": 5
}
