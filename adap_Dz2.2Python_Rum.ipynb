{
 "cells": [
  {
   "cell_type": "code",
   "execution_count": 11,
   "id": "30ca8050",
   "metadata": {},
   "outputs": [
    {
     "name": "stdout",
     "output_type": "stream",
     "text": [
      "Результат: [213, 15, 54, 119, 98, 35]\n"
     ]
    }
   ],
   "source": [
    "#Задание 2.2\n",
    "ids = {'user1': [213, 213, 213, 15, 213], 'user2': [54, 54, 119, 119, 119], 'user3': [213, 98, 98, 35]}\n",
    "unique = []\n",
    "for value in ids.values():\n",
    "    for i in value:\n",
    "        if i not in unique:\n",
    "            unique.append(i)\n",
    "print(\"Результат:\", unique)\n",
    "#Результат: {98, 35, 15, 213, 54, 119}"
   ]
  }
 ],
 "metadata": {
  "kernelspec": {
   "display_name": "Python 3 (ipykernel)",
   "language": "python",
   "name": "python3"
  },
  "language_info": {
   "codemirror_mode": {
    "name": "ipython",
    "version": 3
   },
   "file_extension": ".py",
   "mimetype": "text/x-python",
   "name": "python",
   "nbconvert_exporter": "python",
   "pygments_lexer": "ipython3",
   "version": "3.11.4"
  }
 },
 "nbformat": 4,
 "nbformat_minor": 5
}
