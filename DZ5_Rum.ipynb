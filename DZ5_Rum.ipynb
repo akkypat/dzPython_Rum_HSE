{
 "cells": [
  {
   "cell_type": "code",
   "execution_count": 49,
   "id": "5974a8c1",
   "metadata": {},
   "outputs": [
    {
     "name": "stdout",
     "output_type": "stream",
     "text": [
      "2024-10-20 01:46:23.730758: ПОТОК 10 000 12804 НАЧАЛО \t\n",
      "2024-10-20 01:46:23.746758: ПОТОК 10 000 7976 НАЧАЛО \t\n",
      "0:00:00.216780\n",
      "2024-10-20 01:46:23.947538: ПОТОК 10 000 12804 КОНЕЦ \n",
      "\n",
      "0:00:00.206774\n",
      "2024-10-20 01:46:23.953532: ПОТОК 10 000 7976 КОНЕЦ \n",
      "\n",
      "2024-10-20 01:46:24.948304: ПОТОК 100 000 12804 НАЧАЛО\n",
      "2024-10-20 01:46:24.966330: ПОТОК 100 000 7976 НАЧАЛО\n",
      "0:00:00.097019\n",
      "2024-10-20 01:46:25.045323: ПОТОК 100 000 12804 КОНЕЦ \n",
      "\n",
      "0:00:00.107992\n",
      "2024-10-20 01:46:25.074322: ПОТОК 100 000 7976 КОНЕЦ \n",
      "\n"
     ]
    }
   ],
   "source": [
    "import threading\n",
    "from datetime import datetime\n",
    "import time\n",
    "def f1():\n",
    "    start = datetime.now()\n",
    "    print(f\"{datetime.now()}: ПОТОК 10 000 {threading.get_ident()} НАЧАЛО\",'\\t')\n",
    "    for x in range(10000):\n",
    "        fun1 = x ** 2 - x ** 2 + 4 * x - 5 * x + x + x \n",
    "        fun2 = x + x\n",
    "        fun3 = fun1 + fun2\n",
    "    time.sleep(0.2)\n",
    "    print(datetime.now() - start)\n",
    "    print(f\"{datetime.now()}: ПОТОК 10 000 {threading.get_ident()} КОНЕЦ\",'\\n')\n",
    "    time.sleep(1)\n",
    "    start_2 = datetime.now()\n",
    "    print(f\"{datetime.now()}: ПОТОК 100 000 {threading.get_ident()} НАЧАЛО\")\n",
    "    for x in range(100000):\n",
    "        fun1 = x ** 2 - x ** 2 + 4 * x - 5 * x + x + x \n",
    "        fun2 = x + x\n",
    "        fun3 = fun1 + fun2 \n",
    "    print(datetime.now() - start_2)\n",
    "    print(f\"{datetime.now()}: ПОТОК 100 000 {threading.get_ident()} КОНЕЦ\",'\\n')\n",
    "t = threading.Thread(target=f1)\n",
    "t.start()\n",
    "t2 = threading.Thread(target=f1)\n",
    "t2.start()"
   ]
  }
 ],
 "metadata": {
  "kernelspec": {
   "display_name": "Python 3 (ipykernel)",
   "language": "python",
   "name": "python3"
  },
  "language_info": {
   "codemirror_mode": {
    "name": "ipython",
    "version": 3
   },
   "file_extension": ".py",
   "mimetype": "text/x-python",
   "name": "python",
   "nbconvert_exporter": "python",
   "pygments_lexer": "ipython3",
   "version": "3.11.4"
  }
 },
 "nbformat": 4,
 "nbformat_minor": 5
}
