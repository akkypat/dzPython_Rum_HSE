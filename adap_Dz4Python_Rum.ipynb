{
 "cells": [
  {
   "cell_type": "code",
   "execution_count": 78,
   "id": "5241a5f3",
   "metadata": {
    "scrolled": true
   },
   "outputs": [
    {
     "name": "stdout",
     "output_type": "stream",
     "text": [
      "p\n",
      "Введите номер документа:\n",
      "10006\n",
      "Владелец документа: Аристарх Павлов\n",
      "1001\n",
      "Владелец документа: владелец не найден\n",
      "11-2\n",
      "Владелец документа: Геннадий Покемонов\n",
      "2207 876234\n",
      "Владелец документа: владелец не найден\n",
      "1012\n",
      "Владелец документа: владелец не найден\n",
      "q\n"
     ]
    }
   ],
   "source": [
    "#Задание 4\n",
    "documents = [\n",
    "{'type': 'passport', 'number': '2207 876234',\n",
    "'name': 'Василий Гупкин'},\n",
    "{'type': 'invoice', 'number': '11-2',\n",
    "'name': 'Геннадий Покемонов'},\n",
    "{'type': 'insurance', 'number': '10006',\n",
    "'name': 'Аристарх Павлов'}\n",
    "]\n",
    "directories = {\n",
    "'1': ['2207 876234', '11-2'],\n",
    "'2': ['10006'],\n",
    "'3': []\n",
    "}\n",
    "\n",
    "if input() == 'p':\n",
    "    print(\"Введите номер документа:\")\n",
    "    num = input()\n",
    "    while num != 'q':\n",
    "        st = 0\n",
    "        for i in range(len(documents)):\n",
    "            if num == documents[i]['number']: \n",
    "                print(\"Владелец документа:\", documents[i]['name'])\n",
    "                st = 1\n",
    "                num = input()               \n",
    "            if st != 0:\n",
    "                print(\"Владелец документа: владелец не найден\")\n",
    "                num = input()"
   ]
  }
 ],
 "metadata": {
  "kernelspec": {
   "display_name": "Python 3 (ipykernel)",
   "language": "python",
   "name": "python3"
  },
  "language_info": {
   "codemirror_mode": {
    "name": "ipython",
    "version": 3
   },
   "file_extension": ".py",
   "mimetype": "text/x-python",
   "name": "python",
   "nbconvert_exporter": "python",
   "pygments_lexer": "ipython3",
   "version": "3.11.4"
  }
 },
 "nbformat": 4,
 "nbformat_minor": 5
}
