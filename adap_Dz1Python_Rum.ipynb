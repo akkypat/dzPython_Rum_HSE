{
 "cells": [
  {
   "cell_type": "code",
   "execution_count": 31,
   "id": "ecfdf4f8",
   "metadata": {},
   "outputs": [
    {
     "name": "stdout",
     "output_type": "stream",
     "text": [
      "2000\n",
      "Результат\n",
      "Високосный год\n"
     ]
    }
   ],
   "source": [
    "\"\"\"Задание к теме 1\"\"\"\n",
    "year = int(input())\n",
    "print(\"Результат\")\n",
    "if year % 4 == 0 and year % 100 != 0 or year % 400 == 0:\n",
    "    print(\"Високосный год\")\n",
    "else:\n",
    "    print(\"Обычный год\")"
   ]
  },
  {
   "cell_type": "code",
   "execution_count": 46,
   "id": "7e4ecd26",
   "metadata": {},
   "outputs": [
    {
     "name": "stdout",
     "output_type": "stream",
     "text": [
      "123321\n",
      "Результат\n",
      "Счастливый билет\n"
     ]
    }
   ],
   "source": [
    "\"\"\"Задание к теме 1*\"\"\"\n",
    "number = input()\n",
    "print(\"Результат\")\n",
    "number_new = list(map(int, str(number)))\n",
    "if number_new[0] + number_new[1] + number_new[2] == number_new[3] + number_new[4] + number_new[5]:\n",
    "    print(\"Счастливый билет\")\n",
    "else:\n",
    "    print(\"Несчастливый билет\")"
   ]
  }
 ],
 "metadata": {
  "kernelspec": {
   "display_name": "Python 3 (ipykernel)",
   "language": "python",
   "name": "python3"
  },
  "language_info": {
   "codemirror_mode": {
    "name": "ipython",
    "version": 3
   },
   "file_extension": ".py",
   "mimetype": "text/x-python",
   "name": "python",
   "nbconvert_exporter": "python",
   "pygments_lexer": "ipython3",
   "version": "3.11.4"
  }
 },
 "nbformat": 4,
 "nbformat_minor": 5
}
