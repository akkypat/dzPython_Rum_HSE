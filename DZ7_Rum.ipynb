{
 "cells": [
  {
   "cell_type": "code",
   "execution_count": 1,
   "id": "ef09a814",
   "metadata": {},
   "outputs": [],
   "source": [
    "import pandas as pd"
   ]
  },
  {
   "cell_type": "code",
   "execution_count": 137,
   "id": "fb456a22",
   "metadata": {},
   "outputs": [
    {
     "name": "stdout",
     "output_type": "stream",
     "text": [
      "     user_id  product_id  price\n",
      "0         19         104  12.99\n",
      "1         49          90   9.99\n",
      "2         30          20  12.49\n",
      "3         45         141  12.99\n",
      "4         40          25   9.49\n",
      "..       ...         ...    ...\n",
      "495       24          66  14.99\n",
      "496       46          75  14.49\n",
      "497        9         111  15.99\n",
      "498        9         143  15.99\n",
      "499        8           4  13.49\n",
      "\n",
      "[500 rows x 3 columns]\n"
     ]
    }
   ],
   "source": [
    "#Задание1\n",
    "df_cus = pd.read_csv(\"customer_database к ДЗ 7/customer.csv\",sep = \";\")\n",
    "df_pur = pd.read_csv(\"customer_database к ДЗ 7/purchase.csv\",sep = \";\")\n",
    "df_cusseg = pd.read_csv(\"customer_database к ДЗ 7/customers_segmetns.csv\",sep = \";\")\n",
    "df_seg = pd.read_csv(\"customer_database к ДЗ 7/segment.csv\",sep = \";\")\n",
    "df_prod = pd.read_csv(\"customer_database к ДЗ 7/product.csv\",sep = \";\")\n",
    "\n",
    "#print(df_pur.head())\n",
    "#print(df_cus.head())\n",
    "#print(df_cusseg.head())\n",
    "#print(df_seg.head())\n",
    "#print(df_prod.head())\n",
    "#df1 = df_pur[['user_id', 'product_id']] .groupby('user_id')['product_id'] .count().reset_index(name='sum_prod')\n",
    "\n",
    "df1 = df_pur.merge(df_prod, \n",
    "                left_on='user_id',\n",
    "                right_on='id',\n",
    "                how='left')\n",
    "print(df1[['user_id', 'product_id', 'price']])"
   ]
  },
  {
   "cell_type": "code",
   "execution_count": null,
   "id": "58ab74bd",
   "metadata": {},
   "outputs": [],
   "source": [
    "df_emp_hired_manager_skills = df_emp_hired_manager.merge(df_skills, \n",
    "                                                         left_on='department',\n",
    "                                                         right_on='department_name') \\\n",
    "                                                  .drop('department_name', axis=1)\n",
    "                                        \n",
    "df_emp_hired_manager_skills\n",
    "\n",
    "\n",
    "\n",
    "df1 = df_pur.merge(df_cus, \n",
    "                    left_on='user_id',\n",
    "                    right_on='id',\n",
    "                    how='left')\n"
   ]
  }
 ],
 "metadata": {
  "kernelspec": {
   "display_name": "Python 3 (ipykernel)",
   "language": "python",
   "name": "python3"
  },
  "language_info": {
   "codemirror_mode": {
    "name": "ipython",
    "version": 3
   },
   "file_extension": ".py",
   "mimetype": "text/x-python",
   "name": "python",
   "nbconvert_exporter": "python",
   "pygments_lexer": "ipython3",
   "version": "3.11.4"
  }
 },
 "nbformat": 4,
 "nbformat_minor": 5
}
