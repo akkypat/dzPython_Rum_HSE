{
 "cells": [
  {
   "cell_type": "code",
   "execution_count": 3,
   "id": "0fadf43a",
   "metadata": {},
   "outputs": [
    {
     "name": "stdout",
     "output_type": "stream",
     "text": [
      "Downloading from https://www.kaggle.com/api/v1/datasets/download/cameronseamons/electronic-sales-sep2023-sep2024?dataset_version_number=5...\n"
     ]
    },
    {
     "name": "stderr",
     "output_type": "stream",
     "text": [
      "100%|███████████████████████████████████████████████████████████████████████████████| 327k/327k [00:00<00:00, 1.44MB/s]"
     ]
    },
    {
     "name": "stdout",
     "output_type": "stream",
     "text": [
      "Extracting files...\n",
      "Path to dataset files: C:\\Users\\Иван\\.cache\\kagglehub\\datasets\\cameronseamons\\electronic-sales-sep2023-sep2024\\versions\\5\n"
     ]
    },
    {
     "name": "stderr",
     "output_type": "stream",
     "text": [
      "\n"
     ]
    }
   ],
   "source": [
    "import kagglehub\n",
    "\n",
    "# Download latest version\n",
    "path = kagglehub.dataset_download(\"cameronseamons/electronic-sales-sep2023-sep2024\")\n",
    "\n",
    "print(\"Path to dataset files:\", path)"
   ]
  },
  {
   "cell_type": "code",
   "execution_count": 11,
   "id": "f243f41c",
   "metadata": {},
   "outputs": [
    {
     "name": "stdout",
     "output_type": "stream",
     "text": [
      "       Customer ID   Preferred PM  Total Sum  Add Total\n",
      "0             1000    Credit Card    6279.42      66.30\n",
      "1             1002    Credit Card    5020.60      60.16\n",
      "2             1003           Cash      41.50      35.56\n",
      "3             1004    Credit Card      83.00      65.78\n",
      "4             1005         Paypal   11779.11      75.33\n",
      "...            ...            ...        ...        ...\n",
      "12131        19994  Bank Transfer    5504.87      93.17\n",
      "12132        19995    Credit Card    5394.56       0.00\n",
      "12133        19996         PayPal   27296.78     432.12\n",
      "12134        19997  Bank Transfer    2528.26     101.34\n",
      "12135        19998  Bank Transfer     674.32       0.00\n",
      "\n",
      "[12136 rows x 4 columns]\n"
     ]
    }
   ],
   "source": [
    "#Задание 1\n",
    "import numpy as np\n",
    "import pandas as pd\n",
    "df = pd.read_csv('Electronic_sales_Sep2023-Sep2024.csv')\n",
    "#print(df.head())\n",
    "\n",
    "def get_preferred_payment_method(group):\n",
    "    counts = group['Payment Method'].value_counts()\n",
    "    return counts.index[0]\n",
    "\n",
    "preferred_methods = df.groupby('Customer ID').apply(get_preferred_payment_method).reset_index(name='Preferred PM')\n",
    "total_sums = df.groupby('Customer ID')['Total Price'].sum().reset_index(name='Total Sum')\n",
    "add_total = df.groupby('Customer ID')['Add-on Total'].sum().reset_index(name='Add Total') \n",
    "result_df = preferred_methods.merge(total_sums, on='Customer ID', how='left')\n",
    "result_df = result_df.merge(add_total, on='Customer ID', how='left')\n",
    "print(result_df)"
   ]
  }
 ],
 "metadata": {
  "kernelspec": {
   "display_name": "Python 3 (ipykernel)",
   "language": "python",
   "name": "python3"
  },
  "language_info": {
   "codemirror_mode": {
    "name": "ipython",
    "version": 3
   },
   "file_extension": ".py",
   "mimetype": "text/x-python",
   "name": "python",
   "nbconvert_exporter": "python",
   "pygments_lexer": "ipython3",
   "version": "3.11.4"
  }
 },
 "nbformat": 4,
 "nbformat_minor": 5
}
